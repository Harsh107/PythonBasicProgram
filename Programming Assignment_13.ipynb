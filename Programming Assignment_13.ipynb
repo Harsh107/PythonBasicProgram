{
 "cells": [
  {
   "cell_type": "raw",
   "id": "946507bf",
   "metadata": {},
   "source": [
    "Question 1:\n",
    "Write a program that calculates and prints the value according to the given formula:\n",
    "Q = Square root of [(2 * C * D)/H]\n",
    "Following are the fixed values of C and H:\n",
    "C is 50. H is 30.\n",
    "D is the variable whose values should be input to your program in a comma-separated\n",
    "sequence.\n",
    "Example\n",
    "Let us assume the following comma separated input sequence is given to the program:\n",
    "100,150,180\n",
    "The output of the program should be:\n",
    "18,22,24\n",
    "\n"
   ]
  },
  {
   "cell_type": "code",
   "execution_count": 20,
   "id": "2fe2699d",
   "metadata": {},
   "outputs": [],
   "source": [
    "def cal1():\n",
    "    \"\"\"this function takes in a numbers seperated by a comma and performs an operation on it\"\"\"\n",
    "    try:\n",
    "        c=50\n",
    "        h=30\n",
    "        s=input(\"enter the values of d seperated by a comma : \")\n",
    "        l=s.split(\",\")\n",
    "        l2=[]\n",
    "        for i in l:\n",
    "            d=int(i)\n",
    "            q=(int)(((2*c*d)/h)**(1/2))\n",
    "            l2.append(str(q))\n",
    "        \n",
    "        s2 = \"\"\n",
    "        s2 = \",\".join(l2)\n",
    "        return s2\n",
    "    except Exception as e:\n",
    "        print(e)"
   ]
  },
  {
   "cell_type": "code",
   "execution_count": 21,
   "id": "6938e652",
   "metadata": {},
   "outputs": [
    {
     "name": "stdout",
     "output_type": "stream",
     "text": [
      "enter the values of d seperated by a comma : 100,150,180\n"
     ]
    },
    {
     "data": {
      "text/plain": [
       "'18,22,24'"
      ]
     },
     "execution_count": 21,
     "metadata": {},
     "output_type": "execute_result"
    }
   ],
   "source": [
    "cal1()"
   ]
  },
  {
   "cell_type": "code",
   "execution_count": null,
   "id": "e48d3281",
   "metadata": {},
   "outputs": [],
   "source": []
  },
  {
   "cell_type": "code",
   "execution_count": null,
   "id": "c0b5f393",
   "metadata": {},
   "outputs": [],
   "source": []
  },
  {
   "cell_type": "raw",
   "id": "6302afc3",
   "metadata": {},
   "source": [
    "Question 2:\n",
    "Write a program which takes 2 digits, X,Y as input and generates a 2-dimensional array. The\n",
    "element value in the i-th row and j-th column of the array should be i*j.\n",
    "Note: i=0,1.., X-1; j=0,1,¡Y-1.\n",
    "Example\n",
    "Suppose the following inputs are given to the program:\n",
    "3,5\n",
    "Then, the output of the program should be:\n",
    "[[0, 0, 0, 0, 0], [0, 1, 2, 3, 4], [0, 2, 4, 6, 8]]"
   ]
  },
  {
   "cell_type": "code",
   "execution_count": 15,
   "id": "36e7534d",
   "metadata": {},
   "outputs": [],
   "source": [
    "def two_dlist_generator(x,y):\n",
    "    \"\"\"this function takes in no. of rows and columns of a 2d list and fils in the elements according to the logic provided.\"\"\"\n",
    "    try:\n",
    "        l=[]\n",
    "        for i in range(0,x):\n",
    "            k=[]\n",
    "            for j in range(0,y):\n",
    "                k.append(i*j)\n",
    "            l.append(k)\n",
    "        \n",
    "        return l\n",
    "    \n",
    "    except Exception as e:\n",
    "        print(e)"
   ]
  },
  {
   "cell_type": "code",
   "execution_count": 16,
   "id": "30cfcb5c",
   "metadata": {},
   "outputs": [
    {
     "data": {
      "text/plain": [
       "[[0, 0, 0, 0, 0], [0, 1, 2, 3, 4], [0, 2, 4, 6, 8]]"
      ]
     },
     "execution_count": 16,
     "metadata": {},
     "output_type": "execute_result"
    }
   ],
   "source": [
    "two_dlist_generator(3,5)"
   ]
  },
  {
   "cell_type": "code",
   "execution_count": null,
   "id": "52bf883a",
   "metadata": {},
   "outputs": [],
   "source": []
  },
  {
   "cell_type": "code",
   "execution_count": null,
   "id": "bb3f1354",
   "metadata": {},
   "outputs": [],
   "source": []
  },
  {
   "cell_type": "raw",
   "id": "52531f6e",
   "metadata": {},
   "source": [
    "Question 3:\n",
    "Write a program that accepts a comma separated sequence of words as input and prints the\n",
    "words in a comma-separated sequence after sorting them alphabetically.\n",
    "Suppose the following input is supplied to the program:\n",
    "without,hello,bag,world\n",
    "Then, the output should be:\n",
    "bag,hello,without,world"
   ]
  },
  {
   "cell_type": "code",
   "execution_count": 24,
   "id": "1febb50b",
   "metadata": {},
   "outputs": [
    {
     "name": "stdout",
     "output_type": "stream",
     "text": [
      "Enter a string with words seperated by commaswithout,hello,bag,world\n"
     ]
    },
    {
     "data": {
      "text/plain": [
       "'bag,hello,without,world'"
      ]
     },
     "execution_count": 24,
     "metadata": {},
     "output_type": "execute_result"
    }
   ],
   "source": [
    "def sort(l):\n",
    "    \"\"\"this function takes in a list of strings and sorts\"\"\"\n",
    "    try: \n",
    "        j=\"\"\n",
    "        j=\",\".join(sorted(l))\n",
    "        return j\n",
    "    except Exception as e:\n",
    "        print(e)\n",
    "        \n",
    "s=input(\"Enter a string with words seperated by commas\")\n",
    "k=s.split(\",\")\n",
    "sort(k)"
   ]
  },
  {
   "cell_type": "code",
   "execution_count": null,
   "id": "f5f0cd13",
   "metadata": {},
   "outputs": [],
   "source": []
  },
  {
   "cell_type": "code",
   "execution_count": null,
   "id": "c464c95f",
   "metadata": {},
   "outputs": [],
   "source": []
  },
  {
   "cell_type": "raw",
   "id": "4113c31c",
   "metadata": {},
   "source": [
    "Question 4:\n",
    "Write a program that accepts a sequence of whitespace separated words as input and prints\n",
    "the words after removing all duplicate words and sorting them alphanumerically.\n",
    "Suppose the following input is supplied to the program:\n",
    "hello world and practice makes perfect and hello world again\n",
    "Then, the output should be:\n",
    "again and hello makes perfect practice world"
   ]
  },
  {
   "cell_type": "code",
   "execution_count": 26,
   "id": "6927962a",
   "metadata": {},
   "outputs": [
    {
     "name": "stdout",
     "output_type": "stream",
     "text": [
      "Enter a sentence with words separated by white spacehello world and practice makes perfect and hello world again\n"
     ]
    },
    {
     "data": {
      "text/plain": [
       "'again and hello makes perfect practice world'"
      ]
     },
     "execution_count": 26,
     "metadata": {},
     "output_type": "execute_result"
    }
   ],
   "source": [
    "def sort2(l):\n",
    "    \"\"\"this function takes in a list of strings and sorts it after removing all duplicate words\"\"\"\n",
    "    try:\n",
    "        l2=[]\n",
    "        for i in l:\n",
    "            if i in l2:\n",
    "                continue\n",
    "            else:\n",
    "                l2.append(i)\n",
    "        j=\"\"\n",
    "        j=\" \".join(sorted(l2))\n",
    "        return j\n",
    "    except Exception as e:\n",
    "        print(e)\n",
    "        \n",
    "\n",
    "s=input(\"Enter a sentence with words separated by white space\")\n",
    "k=s.split(\" \")\n",
    "sort2(k)"
   ]
  },
  {
   "cell_type": "code",
   "execution_count": null,
   "id": "da399320",
   "metadata": {},
   "outputs": [],
   "source": []
  },
  {
   "cell_type": "code",
   "execution_count": null,
   "id": "271659e7",
   "metadata": {},
   "outputs": [],
   "source": []
  },
  {
   "cell_type": "code",
   "execution_count": null,
   "id": "4ad59805",
   "metadata": {},
   "outputs": [],
   "source": []
  },
  {
   "cell_type": "raw",
   "id": "b52115ed",
   "metadata": {},
   "source": [
    "Question 5:\n",
    "Write a program that accepts a sentence and calculate the number of letters and digits.\n",
    "Suppose the following input is supplied to the program:\n",
    "hello world! 123\n",
    "Then, the output should be:\n",
    "LETTERS 10\n",
    "\n",
    "DIGITS 3"
   ]
  },
  {
   "cell_type": "code",
   "execution_count": 4,
   "id": "79886683",
   "metadata": {},
   "outputs": [
    {
     "name": "stdout",
     "output_type": "stream",
     "text": [
      "Enter the sentencehello world! 123\n",
      "LETTERS 10 \n",
      "DIGITS 3\n"
     ]
    }
   ],
   "source": [
    "def let_num_cal(s):\n",
    "    \"\"\"this function takes in a string and calculates number of letters and numbers in it\"\"\"\n",
    "    try:\n",
    "        a=0\n",
    "        n=0\n",
    "        for i in s:\n",
    "            if(str.isnumeric(i)):\n",
    "                n=n+1\n",
    "            elif(str.isalpha(i)):\n",
    "                a=a+1\n",
    "                \n",
    "        return a,n ##returns as a tuple\n",
    "    except Exception as e:\n",
    "        print(e)\n",
    "    \n",
    "k=input(\"Enter the sentence\")\n",
    "t=let_num_cal(k)\n",
    "\n",
    "print('LETTERS {} \\nDIGITS {}'.format(t[0],t[1]))\n",
    "    "
   ]
  },
  {
   "cell_type": "code",
   "execution_count": null,
   "id": "bc69361c",
   "metadata": {},
   "outputs": [],
   "source": []
  },
  {
   "cell_type": "code",
   "execution_count": null,
   "id": "65fe9a62",
   "metadata": {},
   "outputs": [],
   "source": []
  },
  {
   "cell_type": "code",
   "execution_count": null,
   "id": "d72777d3",
   "metadata": {},
   "outputs": [],
   "source": []
  },
  {
   "cell_type": "raw",
   "id": "e7d4b6ea",
   "metadata": {},
   "source": [
    "Question 6:\n",
    "A website requires the users to input username and password to register. Write a program to\n",
    "check the validity of password input by users.\n",
    "Following are the criteria for checking the password:\n",
    "1. At least 1 letter between [a-z]\n",
    "2. At least 1 number between [0-9]\n",
    "1. At least 1 letter between [A-Z]\n",
    "3. At least 1 character from [$#@]\n",
    "4. Minimum length of transaction password: 6\n",
    "5. Maximum length of transaction password: 12\n",
    "Your program should accept a sequence of comma separated passwords and will check them\n",
    "according to the above criteria. Passwords that match the criteria are to be printed, each\n",
    "separated by a comma.\n",
    "Example\n",
    "If the following passwords are given as input to the program:\n",
    "ABd1234@1,a F1#,2w3E*,2We3345\n",
    "Then, the output of the program should be:\n",
    "ABd1234@1"
   ]
  },
  {
   "cell_type": "code",
   "execution_count": 10,
   "id": "d17c38d1",
   "metadata": {},
   "outputs": [
    {
     "name": "stdout",
     "output_type": "stream",
     "text": [
      "Enter the passwords separated by a commaABd1234@1,a F1#,2w3E*,2We3345\n",
      "ABd1234@1\n"
     ]
    }
   ],
   "source": [
    "def password_check(l):\n",
    "    \"\"\"this function takes in a string password and checks whether the password is valid or not\"\"\"\n",
    "    try:\n",
    "        if(len(l)<=6 or len(l)>=12):\n",
    "            return False\n",
    "        else:\n",
    "            one,two,three,four = False,False,False,False\n",
    "            for i in l:\n",
    "                if(str.isalpha(i) and str.islower(i)):\n",
    "                    one=True\n",
    "                elif(str.isdigit(i)):\n",
    "                    two=True\n",
    "                elif(str.isalpha(i) and str.isupper(i)):\n",
    "                    three =True\n",
    "                elif(i=='$' or i=='#' or i=='@'):\n",
    "                    four=True\n",
    "                \n",
    "            return one and two and three and four\n",
    "    \n",
    "    except Exception as e:\n",
    "        print(e)\n",
    "    \n",
    "\n",
    "\n",
    "try:\n",
    "    s=input(\"Enter the passwords separated by a comma\")\n",
    "    k=s.split(\",\")\n",
    "    k2=[]\n",
    "    for i in k:\n",
    "        if(password_check(i)):\n",
    "            k2.append(i)\n",
    "\n",
    "    j=\"\"\n",
    "    j=\",\".join(k2)\n",
    "    print(j)\n",
    "except Exception as e:\n",
    "    print(e)"
   ]
  },
  {
   "cell_type": "code",
   "execution_count": null,
   "id": "9b977b75",
   "metadata": {},
   "outputs": [],
   "source": []
  }
 ],
 "metadata": {
  "kernelspec": {
   "display_name": "Python 3 (ipykernel)",
   "language": "python",
   "name": "python3"
  },
  "language_info": {
   "codemirror_mode": {
    "name": "ipython",
    "version": 3
   },
   "file_extension": ".py",
   "mimetype": "text/x-python",
   "name": "python",
   "nbconvert_exporter": "python",
   "pygments_lexer": "ipython3",
   "version": "3.9.7"
  }
 },
 "nbformat": 4,
 "nbformat_minor": 5
}
