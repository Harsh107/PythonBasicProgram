{
 "cells": [
  {
   "cell_type": "raw",
   "id": "06374ca1",
   "metadata": {},
   "source": [
    "1. Write a Python program to find words which are greater than given length k?"
   ]
  },
  {
   "cell_type": "code",
   "execution_count": 1,
   "id": "62e188e9",
   "metadata": {},
   "outputs": [],
   "source": [
    "def greater_word(s,k):\n",
    "    \"\"\"this function takes in a string and an integer and finds the number of words whose length is greater than the given number.\"\"\"\n",
    "    ctr=0\n",
    "    try:\n",
    "        l=s.split(\" \")\n",
    "        for i in l:\n",
    "            if len(i)>k:\n",
    "                ctr+=1\n",
    "    except Exception as e:\n",
    "        print(e)\n",
    "    return ctr\n",
    "    \n"
   ]
  },
  {
   "cell_type": "code",
   "execution_count": 2,
   "id": "6b9744ef",
   "metadata": {},
   "outputs": [
    {
     "data": {
      "text/plain": [
       "19"
      ]
     },
     "execution_count": 2,
     "metadata": {},
     "output_type": "execute_result"
    }
   ],
   "source": [
    "s=\"A wiki enables communities of editors and contributors to write documents collaboratively. All that people require to contribute is a computer, Internet access, a web browser, and a basic understanding of a simple markup language\"\n",
    "greater_word(s,4)"
   ]
  },
  {
   "cell_type": "code",
   "execution_count": null,
   "id": "51b28285",
   "metadata": {},
   "outputs": [],
   "source": []
  },
  {
   "cell_type": "code",
   "execution_count": null,
   "id": "12ff46a1",
   "metadata": {},
   "outputs": [],
   "source": []
  },
  {
   "cell_type": "raw",
   "id": "ad81694b",
   "metadata": {},
   "source": [
    "2. Write a Python program for removing i-th character from a string?"
   ]
  },
  {
   "cell_type": "code",
   "execution_count": 3,
   "id": "ff5d0967",
   "metadata": {},
   "outputs": [],
   "source": [
    "def removea_char(s,i):\n",
    "    \"\"\"this funtion takes in a string and removes the ith character from it.\"\"\"\n",
    "    a=\"\"\n",
    "    try:\n",
    "        for m in range(0,len(s)):\n",
    "            if(m==i):\n",
    "                continue\n",
    "            else:\n",
    "                a=a+s[m]\n",
    "    except Exception as e:\n",
    "        print(e)\n",
    "    return a"
   ]
  },
  {
   "cell_type": "code",
   "execution_count": 4,
   "id": "bc6bf0ca",
   "metadata": {},
   "outputs": [
    {
     "data": {
      "text/plain": [
       "'sdfjoijewooj orfj erj e'"
      ]
     },
     "execution_count": 4,
     "metadata": {},
     "output_type": "execute_result"
    }
   ],
   "source": [
    "s=\"sdfjoijewfooj orfj erj e\"\n",
    "removea_char(s,9)"
   ]
  },
  {
   "cell_type": "code",
   "execution_count": null,
   "id": "a90cb498",
   "metadata": {},
   "outputs": [],
   "source": []
  },
  {
   "cell_type": "code",
   "execution_count": null,
   "id": "07ac5a7b",
   "metadata": {},
   "outputs": [],
   "source": []
  },
  {
   "cell_type": "raw",
   "id": "667e720d",
   "metadata": {},
   "source": [
    "3. Write a Python program to split and join a string?"
   ]
  },
  {
   "cell_type": "code",
   "execution_count": 5,
   "id": "cde94e2f",
   "metadata": {},
   "outputs": [
    {
     "name": "stdout",
     "output_type": "stream",
     "text": [
      "['siufhiw', 'iojfh', 'wjifh', 'we', 'weurhw', 'we9rruhw', 'ir', 'w9h', 'w']\n",
      "siufhiw iojfh wjifh we weurhw we9rruhw ir w9h w\n"
     ]
    }
   ],
   "source": [
    "s=\"siufhiw iojfh wjifh we weurhw we9rruhw ir w9h w\"\n",
    "try:\n",
    "    l=s.split()\n",
    "    print(l)\n",
    "    j=\"\"\n",
    "    j=\" \".join(l)\n",
    "    print(j)\n",
    "except Exception as e:\n",
    "    print(e)"
   ]
  },
  {
   "cell_type": "code",
   "execution_count": null,
   "id": "bc00a2ac",
   "metadata": {},
   "outputs": [],
   "source": []
  },
  {
   "cell_type": "code",
   "execution_count": null,
   "id": "52321429",
   "metadata": {},
   "outputs": [],
   "source": []
  },
  {
   "cell_type": "raw",
   "id": "d9eff723",
   "metadata": {},
   "source": [
    "4. Write a Python to check if a given string is binary string or not?"
   ]
  },
  {
   "cell_type": "code",
   "execution_count": 6,
   "id": "882d5ce6",
   "metadata": {},
   "outputs": [],
   "source": [
    "def check_binary(s):\n",
    "    \"\"\"this function checks whether the given string is a binary string or not\"\"\"\n",
    "    b=True\n",
    "    try:\n",
    "        for i in s:\n",
    "            if i=='0' or i=='1':\n",
    "                continue\n",
    "            else:\n",
    "                b=False\n",
    "                break\n",
    "        return b\n",
    "    except Exception as e:\n",
    "        print(e)"
   ]
  },
  {
   "cell_type": "code",
   "execution_count": 7,
   "id": "bf64b71b",
   "metadata": {},
   "outputs": [
    {
     "name": "stdout",
     "output_type": "stream",
     "text": [
      "True\n",
      "False\n"
     ]
    }
   ],
   "source": [
    "print(check_binary(\"10101001000101\"))\n",
    "print(check_binary(\"2341001020\"))"
   ]
  },
  {
   "cell_type": "code",
   "execution_count": null,
   "id": "3bd40d77",
   "metadata": {},
   "outputs": [],
   "source": []
  },
  {
   "cell_type": "code",
   "execution_count": null,
   "id": "613e6c12",
   "metadata": {},
   "outputs": [],
   "source": []
  },
  {
   "cell_type": "raw",
   "id": "246e11de",
   "metadata": {},
   "source": [
    "5. Write a Python program to find uncommon words from two Strings?"
   ]
  },
  {
   "cell_type": "code",
   "execution_count": 8,
   "id": "cb3b358d",
   "metadata": {},
   "outputs": [],
   "source": [
    "def uncommon(s1,s2):\n",
    "    \"\"\"this function returns a list of uncommon words in two given strings\"\"\"\n",
    "    l=[]\n",
    "    a=s1.split()\n",
    "    b=s2.split()\n",
    "    try:\n",
    "        for i in a:\n",
    "            if i not in b:\n",
    "                l.append(i)\n",
    "        \n",
    "        for j in b:\n",
    "            if j not in a:\n",
    "                l.append(j)\n",
    "\n",
    "    except Exception as e:\n",
    "        print(e)\n",
    "    return l"
   ]
  },
  {
   "cell_type": "code",
   "execution_count": 9,
   "id": "773816a3",
   "metadata": {},
   "outputs": [
    {
     "data": {
      "text/plain": [
       "['harsh', 'i', 'love', 'and', 'it', 'not', 'parth', 'but', 'whatever']"
      ]
     },
     "execution_count": 9,
     "metadata": {},
     "output_type": "execute_result"
    }
   ],
   "source": [
    "s1=\"hello world my name is harsh\"\n",
    "s2=\"hello world i love my name and it is not parth but whatever\"\n",
    "uncommon(s1,s2)"
   ]
  },
  {
   "cell_type": "code",
   "execution_count": null,
   "id": "cfa8dea3",
   "metadata": {},
   "outputs": [],
   "source": []
  },
  {
   "cell_type": "code",
   "execution_count": null,
   "id": "af007ca8",
   "metadata": {},
   "outputs": [],
   "source": []
  },
  {
   "cell_type": "raw",
   "id": "d3515f2c",
   "metadata": {},
   "source": [
    "6. Write a Python to find all duplicate characters in string?"
   ]
  },
  {
   "cell_type": "code",
   "execution_count": 23,
   "id": "beed70d7",
   "metadata": {},
   "outputs": [],
   "source": [
    "def duplicate(s):\n",
    "    \"\"\"this function takes in a string and returns a list all duplicate characters in it\"\"\"\n",
    "    l=[]\n",
    "    try:\n",
    "        for c in s:\n",
    "            if s.count(c)>1 and c not in l:\n",
    "                l.append(c)\n",
    "                \n",
    "    except Exception as e:\n",
    "        print(e)\n",
    "    return l"
   ]
  },
  {
   "cell_type": "code",
   "execution_count": 25,
   "id": "dd65542b",
   "metadata": {},
   "outputs": [
    {
     "data": {
      "text/plain": [
       "['s', 'f', 'd', 'w', 'j', 'o', 'h', 'i']"
      ]
     },
     "execution_count": 25,
     "metadata": {},
     "output_type": "execute_result"
    }
   ],
   "source": [
    "duplicate(\"asfsdfwjofhuidsiossoossheirtwhhisfjk\")"
   ]
  },
  {
   "cell_type": "code",
   "execution_count": null,
   "id": "51bef879",
   "metadata": {},
   "outputs": [],
   "source": []
  },
  {
   "cell_type": "code",
   "execution_count": null,
   "id": "0b4ef361",
   "metadata": {},
   "outputs": [],
   "source": []
  },
  {
   "cell_type": "raw",
   "id": "881e5df0",
   "metadata": {},
   "source": [
    "7. Write a Python Program to check if a string contains any special character?"
   ]
  },
  {
   "cell_type": "code",
   "execution_count": 27,
   "id": "a351585d",
   "metadata": {},
   "outputs": [],
   "source": [
    "def check_sp_ch(s):\n",
    "    \"\"\"this function takes i a string and checks whether it contains any special character or not\"\"\"\n",
    "    try:\n",
    "        for c in s:\n",
    "            n=ord(c)\n",
    "            if (n<=47 and n>=32) or (n<=64 and n>=58) or (n<=96 and n>=91) or (n<=126 and n>=123):\n",
    "                return True\n",
    "        \n",
    "        return False\n",
    "    \n",
    "    except Exception as e:\n",
    "        print(e)"
   ]
  },
  {
   "cell_type": "code",
   "execution_count": 31,
   "id": "1da99a30",
   "metadata": {},
   "outputs": [
    {
     "data": {
      "text/plain": [
       "True"
      ]
     },
     "execution_count": 31,
     "metadata": {},
     "output_type": "execute_result"
    }
   ],
   "source": [
    "check_sp_ch(\"sffjo324&j25j\")"
   ]
  },
  {
   "cell_type": "code",
   "execution_count": null,
   "id": "fa40651a",
   "metadata": {},
   "outputs": [],
   "source": []
  },
  {
   "cell_type": "code",
   "execution_count": null,
   "id": "80fef0b6",
   "metadata": {},
   "outputs": [],
   "source": []
  }
 ],
 "metadata": {
  "kernelspec": {
   "display_name": "Python 3 (ipykernel)",
   "language": "python",
   "name": "python3"
  },
  "language_info": {
   "codemirror_mode": {
    "name": "ipython",
    "version": 3
   },
   "file_extension": ".py",
   "mimetype": "text/x-python",
   "name": "python",
   "nbconvert_exporter": "python",
   "pygments_lexer": "ipython3",
   "version": "3.9.7"
  }
 },
 "nbformat": 4,
 "nbformat_minor": 5
}
