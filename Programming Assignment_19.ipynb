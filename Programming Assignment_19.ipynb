{
 "cells": [
  {
   "cell_type": "raw",
   "id": "9305a057",
   "metadata": {},
   "source": [
    "Question1\n",
    "Create a function that takes a string and returns a string in which each character is repeated\n",
    "once.\n",
    "Examples\n",
    "double_char(&quot;String&quot;) ➞ &quot;SSttrriinngg&quot;\n",
    "double_char(&quot;Hello World!&quot;) ➞ &quot;HHeelllloo WWoorrlldd!!&quot;\n",
    "double_char(&quot;1234!_ &quot;) ➞ &quot;11223344!!__ &quot;\n",
    "\n"
   ]
  },
  {
   "cell_type": "code",
   "execution_count": 2,
   "id": "4b605e04",
   "metadata": {},
   "outputs": [],
   "source": [
    "def double_char(s):\n",
    "    \"\"\"this function takes a string and returns a string in which each character is repeated once.\"\"\"\n",
    "    try:\n",
    "        j=\"\"\n",
    "        for i in s:\n",
    "            j=j+i*2\n",
    "        return j\n",
    "    except Exception as e:\n",
    "        print(e)\n",
    "            \n",
    "    "
   ]
  },
  {
   "cell_type": "code",
   "execution_count": 3,
   "id": "0e7fa324",
   "metadata": {},
   "outputs": [
    {
     "name": "stdout",
     "output_type": "stream",
     "text": [
      "SSttrriinngg\n",
      "HHeelllloo  WWoorrlldd!!\n",
      "11223344!!__  \n"
     ]
    }
   ],
   "source": [
    "print(double_char(\"String\"))\n",
    "print(double_char(\"Hello World!\"))\n",
    "print(double_char(\"1234!_ \"))"
   ]
  },
  {
   "cell_type": "code",
   "execution_count": null,
   "id": "f835f7e4",
   "metadata": {},
   "outputs": [],
   "source": []
  },
  {
   "cell_type": "code",
   "execution_count": null,
   "id": "50999668",
   "metadata": {},
   "outputs": [],
   "source": []
  },
  {
   "cell_type": "raw",
   "id": "2119bdc5",
   "metadata": {},
   "source": [
    "Question2\n",
    "Create a function that reverses a boolean value and returns the string &quot;boolean expected&quot;\n",
    "if another variable type is given.\n",
    "Examples\n",
    "reverse(True) ➞ False\n",
    "reverse(False) ➞ True\n",
    "reverse(0) ➞ &quot;boolean expected&quot;\n",
    "reverse(None) ➞ &quot;boolean expected&quot;"
   ]
  },
  {
   "cell_type": "code",
   "execution_count": 11,
   "id": "535b7001",
   "metadata": {},
   "outputs": [],
   "source": [
    "def reverse(b):\n",
    "    \"\"\"this function takes in and reverses a boolean value and returns the string 'boolean expected'.\"\"\"\n",
    "    try:\n",
    "        if(type(b)==bool):\n",
    "            if b:\n",
    "                return False\n",
    "            else:\n",
    "                return True\n",
    "        else:\n",
    "            return \"boolean expected\"\n",
    "    except Exception as e:\n",
    "        print(e)"
   ]
  },
  {
   "cell_type": "code",
   "execution_count": 12,
   "id": "475a251a",
   "metadata": {},
   "outputs": [
    {
     "name": "stdout",
     "output_type": "stream",
     "text": [
      "False\n",
      "True\n",
      "boolean expected\n",
      "boolean expected\n"
     ]
    }
   ],
   "source": [
    "print(reverse(True))\n",
    "print(reverse(False))\n",
    "print(reverse(0))\n",
    "print(reverse(None))"
   ]
  },
  {
   "cell_type": "code",
   "execution_count": null,
   "id": "c37ed6cd",
   "metadata": {},
   "outputs": [],
   "source": []
  },
  {
   "cell_type": "code",
   "execution_count": null,
   "id": "7908cb66",
   "metadata": {},
   "outputs": [],
   "source": []
  },
  {
   "cell_type": "raw",
   "id": "b4e15f38",
   "metadata": {},
   "source": [
    "Question3\n",
    "Create a function that returns the thickness (in meters) of a piece of paper after folding it n\n",
    "number of times. The paper starts off with a thickness of 0.5mm.\n",
    "Examples\n",
    "num_layers(1) ➞ &quot;0.001m&quot;\n",
    "# Paper folded once is 1mm (equal to 0.001m)\n",
    "num_layers(4) ➞ &quot;0.008m&quot;\n",
    "# Paper folded 4 times is 8mm (equal to 0.008m)\n",
    "num_layers(21) ➞ &quot;1048.576m&quot;\n",
    "# Paper folded 21 times is 1048576mm (equal to 1048.576m)"
   ]
  },
  {
   "cell_type": "code",
   "execution_count": 3,
   "id": "b85e8d2f",
   "metadata": {},
   "outputs": [],
   "source": [
    "def num_layers(n):\n",
    "    \"\"\"this function takes in number of folds and returns thickness after folding the paper\"\"\"\n",
    "    try:\n",
    "        t=0.5\n",
    "        while(n!=0):\n",
    "            t=t*2\n",
    "            n-=1\n",
    "        \n",
    "        return t\n",
    "    except Exception as e:\n",
    "        print(e)"
   ]
  },
  {
   "cell_type": "code",
   "execution_count": 7,
   "id": "8a55faa7",
   "metadata": {},
   "outputs": [
    {
     "name": "stdout",
     "output_type": "stream",
     "text": [
      "1.0 mm\n",
      "8.0 mm\n",
      "1048576.0 mm\n"
     ]
    }
   ],
   "source": [
    "print(num_layers(1),\"mm\")\n",
    "print(num_layers(4),'mm')\n",
    "print(num_layers(21),\"mm\")"
   ]
  },
  {
   "cell_type": "code",
   "execution_count": null,
   "id": "eadc9e78",
   "metadata": {},
   "outputs": [],
   "source": []
  },
  {
   "cell_type": "code",
   "execution_count": null,
   "id": "7f45a5ff",
   "metadata": {},
   "outputs": [],
   "source": []
  },
  {
   "cell_type": "raw",
   "id": "5f19e19d",
   "metadata": {},
   "source": [
    "Question4\n",
    "\n",
    "Create a function that takes a single string as argument and returns an ordered list containing\n",
    "the indices of all capital letters in the string.\n",
    "Examples\n",
    "index_of_caps(&quot;eDaBiT&quot;) ➞ [1, 3, 5]\n",
    "index_of_caps(&quot;eQuINoX&quot;) ➞ [1, 3, 4, 6]\n",
    "index_of_caps(&quot;determine&quot;) ➞ []\n",
    "index_of_caps(&quot;STRIKE&quot;) ➞ [0, 1, 2, 3, 4, 5]\n",
    "index_of_caps(&quot;sUn&quot;) ➞ [1]"
   ]
  },
  {
   "cell_type": "code",
   "execution_count": 8,
   "id": "e1407ced",
   "metadata": {},
   "outputs": [],
   "source": [
    "def index_of_caps(s):\n",
    "    \"\"\"this function takes a single string as argument and returns an ordered list containing\n",
    "    the indices of all capital letters in the string.\"\"\"\n",
    "    try:\n",
    "        l=[]\n",
    "        for i in range(0,len(s)):\n",
    "            if(str.isupper(s[i])):\n",
    "                l.append(i)\n",
    "                \n",
    "        return l\n",
    "    except Exception as e:\n",
    "        print(e)\n",
    "            "
   ]
  },
  {
   "cell_type": "code",
   "execution_count": 9,
   "id": "a189346e",
   "metadata": {},
   "outputs": [
    {
     "name": "stdout",
     "output_type": "stream",
     "text": [
      "[1, 3, 5]\n",
      "[1, 3, 4, 6]\n",
      "[]\n",
      "[0, 1, 2, 3, 4, 5]\n",
      "[1]\n"
     ]
    }
   ],
   "source": [
    "print(index_of_caps(\"eDaBiT\"))\n",
    "print(index_of_caps(\"eQuINoX\"))\n",
    "print(index_of_caps(\"determine\"))\n",
    "print(index_of_caps(\"STRIKE\"))\n",
    "print(index_of_caps(\"sUn\"))"
   ]
  },
  {
   "cell_type": "code",
   "execution_count": null,
   "id": "8266f6d1",
   "metadata": {},
   "outputs": [],
   "source": []
  },
  {
   "cell_type": "code",
   "execution_count": null,
   "id": "ec861180",
   "metadata": {},
   "outputs": [],
   "source": []
  },
  {
   "cell_type": "raw",
   "id": "6fb9c2cc",
   "metadata": {},
   "source": [
    "Question5\n",
    "Using list comprehensions, create a function that finds all even numbers from 1 to the given\n",
    "number.\n",
    "Examples\n",
    "find_even_nums(8) ➞ [2, 4, 6, 8]\n",
    "find_even_nums(4) ➞ [2, 4]\n",
    "find_even_nums(2) ➞ [2]"
   ]
  },
  {
   "cell_type": "code",
   "execution_count": 10,
   "id": "784c7e0b",
   "metadata": {},
   "outputs": [],
   "source": [
    "def find_even_nums(n):\n",
    "    \"\"\"this function takes in a number and finds all even numbers from 1 to the given number.\"\"\"\n",
    "    try:\n",
    "        return [i for i in range(1,n+1) if(i%2==0)]\n",
    "    except Exception as e:\n",
    "        print(e)\n"
   ]
  },
  {
   "cell_type": "code",
   "execution_count": 11,
   "id": "1d9abef7",
   "metadata": {},
   "outputs": [
    {
     "name": "stdout",
     "output_type": "stream",
     "text": [
      "[2, 4, 6, 8]\n",
      "[2, 4]\n",
      "[2]\n"
     ]
    }
   ],
   "source": [
    "print(find_even_nums(8))\n",
    "print(find_even_nums(4))\n",
    "print(find_even_nums(2))"
   ]
  },
  {
   "cell_type": "code",
   "execution_count": null,
   "id": "0b517d0d",
   "metadata": {},
   "outputs": [],
   "source": []
  }
 ],
 "metadata": {
  "kernelspec": {
   "display_name": "Python 3 (ipykernel)",
   "language": "python",
   "name": "python3"
  },
  "language_info": {
   "codemirror_mode": {
    "name": "ipython",
    "version": 3
   },
   "file_extension": ".py",
   "mimetype": "text/x-python",
   "name": "python",
   "nbconvert_exporter": "python",
   "pygments_lexer": "ipython3",
   "version": "3.9.7"
  }
 },
 "nbformat": 4,
 "nbformat_minor": 5
}
