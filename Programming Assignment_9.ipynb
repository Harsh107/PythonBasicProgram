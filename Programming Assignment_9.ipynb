{
 "cells": [
  {
   "cell_type": "raw",
   "id": "db5bddf7",
   "metadata": {},
   "source": [
    "1. Write a Python program to check if the given number is a Disarium Number?"
   ]
  },
  {
   "cell_type": "code",
   "execution_count": 1,
   "id": "921fc965",
   "metadata": {},
   "outputs": [
    {
     "name": "stdout",
     "output_type": "stream",
     "text": [
      "enter a no. to check whether it is a disarium number or not 173\n",
      "not a disarium no.\n"
     ]
    }
   ],
   "source": [
    "def dis(a):\n",
    "    \"\"\"this function takes in a single integer and check whether it is a disarium no. or not.\"\"\"\n",
    "    n=a\n",
    "    ctr=len(str(n))\n",
    "    s=0\n",
    "    while(n!=0):\n",
    "        r=int(n%10)\n",
    "        s=s+(r**ctr)\n",
    "        ctr-=1\n",
    "        n=int(n/10)\n",
    "        \n",
    "    \n",
    "    return s\n",
    "\n",
    "x=int(input(\"enter a no. to check whether it is a disarium number or not \"))\n",
    "k=dis(x)\n",
    "if(x==k):\n",
    "    print(\"disarium no.\")\n",
    "else:\n",
    "    print(\"not a disarium no.\")"
   ]
  },
  {
   "cell_type": "code",
   "execution_count": null,
   "id": "d1cdd029",
   "metadata": {},
   "outputs": [],
   "source": []
  },
  {
   "cell_type": "code",
   "execution_count": null,
   "id": "0ea73d05",
   "metadata": {},
   "outputs": [],
   "source": []
  },
  {
   "cell_type": "raw",
   "id": "e2ee9873",
   "metadata": {},
   "source": [
    "2. Write a Python program to print all disarium numbers between 1 to 100?"
   ]
  },
  {
   "cell_type": "code",
   "execution_count": 2,
   "id": "fb06dc1f",
   "metadata": {},
   "outputs": [
    {
     "name": "stdout",
     "output_type": "stream",
     "text": [
      "All diasarium no.s between 1 to 100 are :\n",
      "1\n",
      "2\n",
      "3\n",
      "4\n",
      "5\n",
      "6\n",
      "7\n",
      "8\n",
      "9\n",
      "89\n"
     ]
    }
   ],
   "source": [
    "print(\"All diasarium no.s between 1 to 100 are :\")\n",
    "for i in range(1,101):\n",
    "    k=dis(i) ## function was created in question 1.\n",
    "    if(i==k):\n",
    "        print(k)\n"
   ]
  },
  {
   "cell_type": "code",
   "execution_count": null,
   "id": "6d1f911e",
   "metadata": {},
   "outputs": [],
   "source": []
  },
  {
   "cell_type": "code",
   "execution_count": null,
   "id": "de7d41e7",
   "metadata": {},
   "outputs": [],
   "source": []
  },
  {
   "cell_type": "raw",
   "id": "8532986d",
   "metadata": {},
   "source": [
    "3. Write a Python program to check if the given number is Happy Number?"
   ]
  },
  {
   "cell_type": "code",
   "execution_count": 3,
   "id": "c9711a9d",
   "metadata": {},
   "outputs": [],
   "source": [
    "def happy(a):\n",
    "    l=set([])\n",
    "    s=0\n",
    "    n=a\n",
    "    flag=True\n",
    "    while(flag):\n",
    "        while(n!=0):\n",
    "            r=int(n%10)\n",
    "            s=s+r**2\n",
    "            n=int(n/10)\n",
    "\n",
    "        if s in l:\n",
    "            flag= False\n",
    "        else:\n",
    "            if(s==1):\n",
    "                flag= False\n",
    "            else:\n",
    "                l.add(s)\n",
    "                n=s\n",
    "                s=0\n",
    "    if(s==1):\n",
    "        return True\n",
    "    else:\n",
    "        return False\n",
    "        "
   ]
  },
  {
   "cell_type": "code",
   "execution_count": 4,
   "id": "d811ba80",
   "metadata": {
    "scrolled": true
   },
   "outputs": [
    {
     "data": {
      "text/plain": [
       "False"
      ]
     },
     "execution_count": 4,
     "metadata": {},
     "output_type": "execute_result"
    }
   ],
   "source": [
    "happy(12)"
   ]
  },
  {
   "cell_type": "code",
   "execution_count": null,
   "id": "4f1524e4",
   "metadata": {},
   "outputs": [],
   "source": []
  },
  {
   "cell_type": "code",
   "execution_count": null,
   "id": "edea3d80",
   "metadata": {},
   "outputs": [],
   "source": []
  },
  {
   "cell_type": "raw",
   "id": "a5bc3dff",
   "metadata": {},
   "source": [
    "4. Write a Python program to print all happy numbers between 1 and 100?"
   ]
  },
  {
   "cell_type": "code",
   "execution_count": 5,
   "id": "c0552183",
   "metadata": {},
   "outputs": [
    {
     "name": "stdout",
     "output_type": "stream",
     "text": [
      "these are happy numbers in range 1 to 100\n",
      "1\n",
      "7\n",
      "10\n",
      "13\n",
      "19\n",
      "23\n",
      "28\n",
      "31\n",
      "32\n",
      "44\n",
      "49\n",
      "68\n",
      "70\n",
      "79\n",
      "82\n",
      "86\n",
      "91\n",
      "94\n",
      "97\n",
      "100\n"
     ]
    }
   ],
   "source": [
    "print(\"these are happy numbers in range 1 to 100\")\n",
    "for i in range(1,101):\n",
    "    b=happy(i)\n",
    "    if(b):\n",
    "        print(i)"
   ]
  },
  {
   "cell_type": "code",
   "execution_count": null,
   "id": "c14ebcb0",
   "metadata": {},
   "outputs": [],
   "source": []
  },
  {
   "cell_type": "code",
   "execution_count": null,
   "id": "f91aee79",
   "metadata": {},
   "outputs": [],
   "source": []
  },
  {
   "cell_type": "raw",
   "id": "69b78fd1",
   "metadata": {},
   "source": [
    "5. Write a Python program to determine whether the given number is a Harshad Number?"
   ]
  },
  {
   "cell_type": "code",
   "execution_count": 6,
   "id": "a2fb11c9",
   "metadata": {},
   "outputs": [],
   "source": [
    "def harshad(n):\n",
    "    \"\"\"this function takes in an integer argument and checks whether the number is a harshad number or not\"\"\"\n",
    "    a=n\n",
    "    s=0\n",
    "    while(a!=0):\n",
    "        r=int(a%10)\n",
    "        s=s+r\n",
    "        a=int(a/10)\n",
    "    \n",
    "    print(s)\n",
    "    if(n%s==0):\n",
    "        return True\n",
    "    else:\n",
    "        return False\n",
    "        "
   ]
  },
  {
   "cell_type": "code",
   "execution_count": 7,
   "id": "7fb54cb9",
   "metadata": {
    "scrolled": true
   },
   "outputs": [
    {
     "name": "stdout",
     "output_type": "stream",
     "text": [
      "23\n"
     ]
    },
    {
     "data": {
      "text/plain": [
       "False"
      ]
     },
     "execution_count": 7,
     "metadata": {},
     "output_type": "execute_result"
    }
   ],
   "source": [
    "harshad(968)"
   ]
  },
  {
   "cell_type": "code",
   "execution_count": null,
   "id": "fa6f4a04",
   "metadata": {},
   "outputs": [],
   "source": []
  },
  {
   "cell_type": "code",
   "execution_count": null,
   "id": "d7a3f631",
   "metadata": {},
   "outputs": [],
   "source": []
  },
  {
   "cell_type": "raw",
   "id": "9d3cb432",
   "metadata": {},
   "source": [
    "6. Write a Python program to print all pronic numbers between 1 and 100?"
   ]
  },
  {
   "cell_type": "code",
   "execution_count": 8,
   "id": "40635914",
   "metadata": {},
   "outputs": [],
   "source": [
    "def pronic(n):\n",
    "    \"\"\"this function checks whether the given number is a pronic number or not\"\"\"\n",
    "    b=False\n",
    "    for i in range(1,int((n/2))+1):\n",
    "        if(i*(i+1)==n):\n",
    "            return True\n",
    "    return b"
   ]
  },
  {
   "cell_type": "code",
   "execution_count": 9,
   "id": "96e22c8a",
   "metadata": {},
   "outputs": [
    {
     "name": "stdout",
     "output_type": "stream",
     "text": [
      "2\n",
      "6\n",
      "12\n",
      "20\n",
      "30\n",
      "42\n",
      "56\n",
      "72\n",
      "90\n"
     ]
    }
   ],
   "source": [
    "for i in range(1,101):\n",
    "    b=pronic(i)\n",
    "    if(b):\n",
    "        print(i)\n",
    "    else:\n",
    "        continue\n",
    "    "
   ]
  },
  {
   "cell_type": "code",
   "execution_count": null,
   "id": "eff47212",
   "metadata": {},
   "outputs": [],
   "source": []
  },
  {
   "cell_type": "code",
   "execution_count": null,
   "id": "9f193b4b",
   "metadata": {},
   "outputs": [],
   "source": []
  }
 ],
 "metadata": {
  "kernelspec": {
   "display_name": "Python 3 (ipykernel)",
   "language": "python",
   "name": "python3"
  },
  "language_info": {
   "codemirror_mode": {
    "name": "ipython",
    "version": 3
   },
   "file_extension": ".py",
   "mimetype": "text/x-python",
   "name": "python",
   "nbconvert_exporter": "python",
   "pygments_lexer": "ipython3",
   "version": "3.9.7"
  }
 },
 "nbformat": 4,
 "nbformat_minor": 5
}
