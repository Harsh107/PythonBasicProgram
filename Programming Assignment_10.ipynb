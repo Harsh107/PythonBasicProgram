{
 "cells": [
  {
   "cell_type": "raw",
   "id": "601807fa",
   "metadata": {},
   "source": [
    "1. Write a Python program to find sum of elements in list?"
   ]
  },
  {
   "cell_type": "code",
   "execution_count": 1,
   "id": "eeadfcf3",
   "metadata": {},
   "outputs": [],
   "source": [
    "def summ(l):\n",
    "    \"\"\"function to return a sum of the given list elements\"\"\"\n",
    "    try:\n",
    "        s=0\n",
    "        for i in l:\n",
    "            s=s+i\n",
    "        return s\n",
    "    except Exception as e:\n",
    "        print(e)"
   ]
  },
  {
   "cell_type": "code",
   "execution_count": 2,
   "id": "8b667ba8",
   "metadata": {},
   "outputs": [
    {
     "data": {
      "text/plain": [
       "15315"
      ]
     },
     "execution_count": 2,
     "metadata": {},
     "output_type": "execute_result"
    }
   ],
   "source": [
    "l=[6464,324,54,653,367,7453]\n",
    "summ(l)"
   ]
  },
  {
   "cell_type": "code",
   "execution_count": null,
   "id": "b0acac63",
   "metadata": {},
   "outputs": [],
   "source": []
  },
  {
   "cell_type": "code",
   "execution_count": null,
   "id": "9ce9e0b4",
   "metadata": {},
   "outputs": [],
   "source": []
  },
  {
   "cell_type": "raw",
   "id": "0e0d7896",
   "metadata": {},
   "source": [
    "2. Write a Python program to Multiply all numbers in the list?"
   ]
  },
  {
   "cell_type": "code",
   "execution_count": 3,
   "id": "988fb14b",
   "metadata": {},
   "outputs": [],
   "source": [
    "def mult(l):\n",
    "    \"\"\"function to return a product of the given list elements\"\"\"\n",
    "    try:\n",
    "        s=1\n",
    "        for i in l:\n",
    "            try:\n",
    "                if(type(i)==str):\n",
    "                    raise Exception(\"string input, invalid\")\n",
    "                s=s*i\n",
    "            except Exception as e:\n",
    "                print(e)\n",
    "                continue\n",
    "        return s\n",
    "    except Exception as e:\n",
    "        print(e)"
   ]
  },
  {
   "cell_type": "code",
   "execution_count": 4,
   "id": "0d851a63",
   "metadata": {},
   "outputs": [
    {
     "name": "stdout",
     "output_type": "stream",
     "text": [
      "string input, invalid\n"
     ]
    },
    {
     "data": {
      "text/plain": [
       "432"
      ]
     },
     "execution_count": 4,
     "metadata": {},
     "output_type": "execute_result"
    }
   ],
   "source": [
    "l=[3,2,4,2,\"sf\",9]\n",
    "mult(l)"
   ]
  },
  {
   "cell_type": "code",
   "execution_count": null,
   "id": "a0357e75",
   "metadata": {},
   "outputs": [],
   "source": []
  },
  {
   "cell_type": "code",
   "execution_count": null,
   "id": "3e78e8df",
   "metadata": {},
   "outputs": [],
   "source": []
  },
  {
   "cell_type": "raw",
   "id": "6dcd6be3",
   "metadata": {},
   "source": [
    "3. Write a Python program to find smallest number in a list?"
   ]
  },
  {
   "cell_type": "raw",
   "id": "7289b550",
   "metadata": {},
   "source": [
    "APPROACH 1"
   ]
  },
  {
   "cell_type": "code",
   "execution_count": 5,
   "id": "f8227d37",
   "metadata": {},
   "outputs": [],
   "source": [
    "def small(l):\n",
    "    \"\"\"this function takes in a list to give the smallest element in the list.\"\"\"\n",
    "    try:\n",
    "        return min(l)\n",
    "    except Exception as e:\n",
    "        print(e)"
   ]
  },
  {
   "cell_type": "code",
   "execution_count": 6,
   "id": "1c48dd6f",
   "metadata": {},
   "outputs": [
    {
     "data": {
      "text/plain": [
       "2"
      ]
     },
     "execution_count": 6,
     "metadata": {},
     "output_type": "execute_result"
    }
   ],
   "source": [
    "small([23,324,234,245,2346,54,4,6342,2])"
   ]
  },
  {
   "cell_type": "code",
   "execution_count": null,
   "id": "f00cea3e",
   "metadata": {},
   "outputs": [],
   "source": []
  },
  {
   "cell_type": "raw",
   "id": "dfaf8666",
   "metadata": {},
   "source": [
    "APPROACH 2"
   ]
  },
  {
   "cell_type": "code",
   "execution_count": 7,
   "id": "2597ac78",
   "metadata": {},
   "outputs": [],
   "source": [
    "def small2(l):\n",
    "    \"\"\"this function takes in a list to give the smallest element in the list.\"\"\"\n",
    "    try:\n",
    "        min=l[0]\n",
    "        for i in range(1,len(l)):\n",
    "            if(min>l[i]):\n",
    "                min = l[i]\n",
    "        return min\n",
    "    except Exception as e:\n",
    "        print(e)"
   ]
  },
  {
   "cell_type": "code",
   "execution_count": 8,
   "id": "25cab9a6",
   "metadata": {},
   "outputs": [
    {
     "data": {
      "text/plain": [
       "2"
      ]
     },
     "execution_count": 8,
     "metadata": {},
     "output_type": "execute_result"
    }
   ],
   "source": [
    "small2([23,324,234,245,2346,54,4,6342,2])"
   ]
  },
  {
   "cell_type": "code",
   "execution_count": null,
   "id": "e9f7bc39",
   "metadata": {},
   "outputs": [],
   "source": []
  },
  {
   "cell_type": "code",
   "execution_count": null,
   "id": "63ab634a",
   "metadata": {},
   "outputs": [],
   "source": []
  },
  {
   "cell_type": "raw",
   "id": "8c691be4",
   "metadata": {},
   "source": [
    "4. Write a Python program to find largest number in a list?"
   ]
  },
  {
   "cell_type": "raw",
   "id": "e1647330",
   "metadata": {},
   "source": [
    "APPROACH 1"
   ]
  },
  {
   "cell_type": "code",
   "execution_count": 10,
   "id": "e0dbad64",
   "metadata": {},
   "outputs": [],
   "source": [
    "def large(l):\n",
    "    \"\"\"this function takes in a list to give the largest element in the list.\"\"\"\n",
    "    try:\n",
    "        return max(l)\n",
    "    except Exception as e:\n",
    "        print(e)"
   ]
  },
  {
   "cell_type": "code",
   "execution_count": 11,
   "id": "e34ddb4a",
   "metadata": {},
   "outputs": [
    {
     "data": {
      "text/plain": [
       "6342"
      ]
     },
     "execution_count": 11,
     "metadata": {},
     "output_type": "execute_result"
    }
   ],
   "source": [
    "large([23,324,234,245,2346,54,4,6342,2])"
   ]
  },
  {
   "cell_type": "code",
   "execution_count": null,
   "id": "6e28ea87",
   "metadata": {},
   "outputs": [],
   "source": []
  },
  {
   "cell_type": "raw",
   "id": "92d37c37",
   "metadata": {},
   "source": [
    "APPROACH 2"
   ]
  },
  {
   "cell_type": "code",
   "execution_count": 13,
   "id": "b3f6e6db",
   "metadata": {},
   "outputs": [],
   "source": [
    "def large2(l):\n",
    "    \"\"\"this function takes in a list to give the largest element in the list.\"\"\"\n",
    "    try:\n",
    "        min=l[0]\n",
    "        for i in range(1,len(l)):\n",
    "            if(min<l[i]):\n",
    "                min = l[i]\n",
    "        return min\n",
    "    except Exception as e:\n",
    "        print(e)"
   ]
  },
  {
   "cell_type": "code",
   "execution_count": 14,
   "id": "e944c039",
   "metadata": {},
   "outputs": [
    {
     "data": {
      "text/plain": [
       "523653"
      ]
     },
     "execution_count": 14,
     "metadata": {},
     "output_type": "execute_result"
    }
   ],
   "source": [
    "large2([23,324,234,245,2346,54,4,6342,2,342,234,52,212,523653,32524,4252])"
   ]
  },
  {
   "cell_type": "code",
   "execution_count": null,
   "id": "23311036",
   "metadata": {},
   "outputs": [],
   "source": []
  },
  {
   "cell_type": "code",
   "execution_count": null,
   "id": "aebc937b",
   "metadata": {},
   "outputs": [],
   "source": []
  },
  {
   "cell_type": "raw",
   "id": "28a699ff",
   "metadata": {},
   "source": [
    "5. Write a Python program to find second largest number in a list?"
   ]
  },
  {
   "cell_type": "raw",
   "id": "a60c5575",
   "metadata": {},
   "source": [
    "APPROACH 1"
   ]
  },
  {
   "cell_type": "code",
   "execution_count": 15,
   "id": "b64fd5b8",
   "metadata": {},
   "outputs": [],
   "source": [
    "def sec_large(l):\n",
    "    \"\"\"this function takes in a list to return the second largest element in the list\"\"\"\n",
    "    max1=large(l) ## large function defind earliar to give the max element of the list\n",
    "    l.remove(max1)\n",
    "    max2=large(l)\n",
    "    return max2\n",
    "    "
   ]
  },
  {
   "cell_type": "code",
   "execution_count": 16,
   "id": "2868009a",
   "metadata": {},
   "outputs": [
    {
     "data": {
      "text/plain": [
       "32524"
      ]
     },
     "execution_count": 16,
     "metadata": {},
     "output_type": "execute_result"
    }
   ],
   "source": [
    "sec_large([23,324,234,245,2346,54,4,6342,2,342,234,52,212,523653,32524,4252])"
   ]
  },
  {
   "cell_type": "code",
   "execution_count": null,
   "id": "508e7dc1",
   "metadata": {},
   "outputs": [],
   "source": []
  },
  {
   "cell_type": "raw",
   "id": "0a602a0d",
   "metadata": {},
   "source": [
    "APPROACH 2"
   ]
  },
  {
   "cell_type": "code",
   "execution_count": 17,
   "id": "222bd278",
   "metadata": {},
   "outputs": [],
   "source": [
    "def sec_large2(l):\n",
    "    \"\"\"this function takes in a list to return the second largest element in the list\"\"\"\n",
    "    try:\n",
    "        l=sorted(l)\n",
    "        print(l)\n",
    "        return l[-2]\n",
    "    except Exception as e:\n",
    "        print(e)"
   ]
  },
  {
   "cell_type": "code",
   "execution_count": 18,
   "id": "da6252ad",
   "metadata": {},
   "outputs": [
    {
     "name": "stdout",
     "output_type": "stream",
     "text": [
      "[2, 4, 23, 52, 54, 212, 234, 234, 245, 324, 342, 2346, 4252, 6342, 32524, 523653]\n"
     ]
    },
    {
     "data": {
      "text/plain": [
       "32524"
      ]
     },
     "execution_count": 18,
     "metadata": {},
     "output_type": "execute_result"
    }
   ],
   "source": [
    "sec_large2([23,324,234,245,2346,54,4,6342,2,342,234,52,212,523653,32524,4252])"
   ]
  },
  {
   "cell_type": "code",
   "execution_count": null,
   "id": "e0bcab2a",
   "metadata": {},
   "outputs": [],
   "source": []
  },
  {
   "cell_type": "code",
   "execution_count": null,
   "id": "11548e68",
   "metadata": {},
   "outputs": [],
   "source": []
  },
  {
   "cell_type": "raw",
   "id": "2af86c19",
   "metadata": {},
   "source": [
    "6. Write a Python program to find N largest elements from a list?"
   ]
  },
  {
   "cell_type": "code",
   "execution_count": 19,
   "id": "5fc0c8f3",
   "metadata": {},
   "outputs": [],
   "source": [
    "def find_n_large(l,n):\n",
    "    \"\"\"this function takes in a list and a limit till which user wants to find the no. of max elements\"\"\"\n",
    "    try:\n",
    "        l=sorted(l)\n",
    "        return l[-1:-1-n:-1]\n",
    "    except Exception as e:\n",
    "        print(e)\n",
    "            "
   ]
  },
  {
   "cell_type": "code",
   "execution_count": 20,
   "id": "0b8caa17",
   "metadata": {},
   "outputs": [
    {
     "data": {
      "text/plain": [
       "[523653, 32524, 6342, 4252, 2346, 342]"
      ]
     },
     "execution_count": 20,
     "metadata": {},
     "output_type": "execute_result"
    }
   ],
   "source": [
    "l=[23,324,234,245,2346,54,4,6342,2,342,234,52,212,523653,32524,4252]\n",
    "find_n_large(l,6)"
   ]
  },
  {
   "cell_type": "code",
   "execution_count": null,
   "id": "d078d2c9",
   "metadata": {},
   "outputs": [],
   "source": []
  },
  {
   "cell_type": "code",
   "execution_count": null,
   "id": "39d4db79",
   "metadata": {},
   "outputs": [],
   "source": []
  },
  {
   "cell_type": "raw",
   "id": "c0912919",
   "metadata": {},
   "source": [
    "7. Write a Python program to print even numbers in a list?"
   ]
  },
  {
   "cell_type": "code",
   "execution_count": 21,
   "id": "4b620023",
   "metadata": {},
   "outputs": [],
   "source": [
    "def even(k):\n",
    "    \"\"\"this function takes in a list and prints all the even numbers in it\"\"\"\n",
    "    try:\n",
    "        for i in k:\n",
    "            if(i%2==0):\n",
    "                print(i)\n",
    "    except Exception as e:\n",
    "        print(e)"
   ]
  },
  {
   "cell_type": "code",
   "execution_count": 22,
   "id": "afe6401e",
   "metadata": {},
   "outputs": [
    {
     "name": "stdout",
     "output_type": "stream",
     "text": [
      "324\n",
      "234\n",
      "2346\n",
      "54\n",
      "4\n",
      "6342\n",
      "2\n",
      "342\n",
      "234\n",
      "52\n",
      "212\n",
      "32524\n",
      "4252\n"
     ]
    }
   ],
   "source": [
    "l=[23,324,234,245,2346,54,4,6342,2,342,234,52,212,523653,32524,4252]\n",
    "even(l)"
   ]
  },
  {
   "cell_type": "code",
   "execution_count": null,
   "id": "1376c5bb",
   "metadata": {},
   "outputs": [],
   "source": []
  },
  {
   "cell_type": "code",
   "execution_count": null,
   "id": "2d6cd312",
   "metadata": {},
   "outputs": [],
   "source": []
  },
  {
   "cell_type": "raw",
   "id": "3cdd67ef",
   "metadata": {},
   "source": [
    "8. Write a Python program to print odd numbers in a List?"
   ]
  },
  {
   "cell_type": "code",
   "execution_count": 23,
   "id": "eb3e14ec",
   "metadata": {},
   "outputs": [],
   "source": [
    "def odd(k):\n",
    "    \"\"\"this function takes in a list and prints all the odd numbers in it\"\"\"\n",
    "    try:\n",
    "        for i in k:\n",
    "            if(i%2!=0):\n",
    "                print(i)\n",
    "    except Exception as e:\n",
    "        print(e)"
   ]
  },
  {
   "cell_type": "code",
   "execution_count": 24,
   "id": "a5cea509",
   "metadata": {},
   "outputs": [
    {
     "name": "stdout",
     "output_type": "stream",
     "text": [
      "23\n",
      "245\n",
      "523653\n"
     ]
    }
   ],
   "source": [
    "l=[23,324,234,245,2346,54,4,6342,2,342,234,52,212,523653,32524,4252]\n",
    "odd(l)"
   ]
  },
  {
   "cell_type": "code",
   "execution_count": null,
   "id": "c32bcf77",
   "metadata": {},
   "outputs": [],
   "source": []
  },
  {
   "cell_type": "code",
   "execution_count": null,
   "id": "0285d55a",
   "metadata": {},
   "outputs": [],
   "source": []
  },
  {
   "cell_type": "raw",
   "id": "3be3dd5b",
   "metadata": {},
   "source": [
    "9. Write a Python program to Remove empty List from List?"
   ]
  },
  {
   "cell_type": "code",
   "execution_count": 34,
   "id": "d31b6297",
   "metadata": {},
   "outputs": [],
   "source": [
    "def emp_list(k):\n",
    "    \"\"\"this function takes in a list and removes all the empty list inside this list.\"\"\"\n",
    "    n=[]\n",
    "    try:\n",
    "        for i in range(0,len(k)):\n",
    "            if(type(k[i])==list and len(k[i])==0):\n",
    "                continue\n",
    "            else:\n",
    "                n.append(k[i])\n",
    "        \n",
    "        return n\n",
    "    except Exception as e:\n",
    "        print(e)"
   ]
  },
  {
   "cell_type": "code",
   "execution_count": 36,
   "id": "c6e31108",
   "metadata": {
    "scrolled": true
   },
   "outputs": [
    {
     "data": {
      "text/plain": [
       "[['wewef'], (2342, 34), 2342342, 'sfsdf']"
      ]
     },
     "execution_count": 36,
     "metadata": {},
     "output_type": "execute_result"
    }
   ],
   "source": [
    "j = [[],[],[],[],[\"wewef\"],[],[],(2342,34),2342342,\"sfsdf\"]\n",
    "emp_list(j)"
   ]
  },
  {
   "cell_type": "code",
   "execution_count": null,
   "id": "c3b26ec4",
   "metadata": {},
   "outputs": [],
   "source": []
  },
  {
   "cell_type": "code",
   "execution_count": null,
   "id": "002a094f",
   "metadata": {},
   "outputs": [],
   "source": []
  },
  {
   "cell_type": "raw",
   "id": "7147e105",
   "metadata": {},
   "source": [
    "10. Write a Python program to Cloning or Copying a list?"
   ]
  },
  {
   "cell_type": "code",
   "execution_count": 37,
   "id": "9a973f60",
   "metadata": {},
   "outputs": [],
   "source": [
    "def clone(l,a):\n",
    "    \"\"\"this function takes in a list and an empty list and copies data of first to the empty list.\"\"\"\n",
    "    try:\n",
    "        for i in l:\n",
    "            a.append(i)\n",
    "    except Exception as e:\n",
    "        print(e)\n"
   ]
  },
  {
   "cell_type": "code",
   "execution_count": 38,
   "id": "d231d3ed",
   "metadata": {},
   "outputs": [
    {
     "name": "stdout",
     "output_type": "stream",
     "text": [
      "[342, 35, 23, 4, 634, 522342, 35, 234, 3]\n"
     ]
    }
   ],
   "source": [
    "l=[342,35,23,4,634,522342,35,234,3]\n",
    "a=[]\n",
    "clone(l,a)\n",
    "print(a)"
   ]
  },
  {
   "cell_type": "code",
   "execution_count": null,
   "id": "a18fddd1",
   "metadata": {},
   "outputs": [],
   "source": []
  },
  {
   "cell_type": "code",
   "execution_count": null,
   "id": "d31807e9",
   "metadata": {},
   "outputs": [],
   "source": []
  },
  {
   "cell_type": "raw",
   "id": "758e4dc2",
   "metadata": {},
   "source": [
    "11. Write a Python program to Count occurrences of an element in a list?"
   ]
  },
  {
   "cell_type": "raw",
   "id": "cdb17e38",
   "metadata": {},
   "source": [
    "APPROACH 1"
   ]
  },
  {
   "cell_type": "code",
   "execution_count": 39,
   "id": "af2e7233",
   "metadata": {},
   "outputs": [],
   "source": [
    "def occ(l,n):\n",
    "    \"\"\"this function takes in a list and an element and counts its number of occurences\"\"\"\n",
    "    ctr=0\n",
    "    try:\n",
    "        for i in l:\n",
    "            if(i==n):\n",
    "                ctr+=1\n",
    "        return ctr\n",
    "    except Exception as e:\n",
    "        print(e)\n",
    "        "
   ]
  },
  {
   "cell_type": "code",
   "execution_count": 40,
   "id": "4dc15cce",
   "metadata": {},
   "outputs": [],
   "source": [
    "l=[23,3,3,2,13,323,3,3,3,32452,3,2523,23,3,5,4,3,23,23]"
   ]
  },
  {
   "cell_type": "code",
   "execution_count": 41,
   "id": "0f35e3de",
   "metadata": {},
   "outputs": [
    {
     "data": {
      "text/plain": [
       "8"
      ]
     },
     "execution_count": 41,
     "metadata": {},
     "output_type": "execute_result"
    }
   ],
   "source": [
    "occ(l,3)"
   ]
  },
  {
   "cell_type": "code",
   "execution_count": 42,
   "id": "5e37cc43",
   "metadata": {},
   "outputs": [
    {
     "data": {
      "text/plain": [
       "4"
      ]
     },
     "execution_count": 42,
     "metadata": {},
     "output_type": "execute_result"
    }
   ],
   "source": [
    "occ(l,23)"
   ]
  },
  {
   "cell_type": "code",
   "execution_count": null,
   "id": "ead880f9",
   "metadata": {},
   "outputs": [],
   "source": []
  },
  {
   "cell_type": "raw",
   "id": "f97c7305",
   "metadata": {},
   "source": [
    "APPROACH 2"
   ]
  },
  {
   "cell_type": "code",
   "execution_count": 43,
   "id": "7bd90a4a",
   "metadata": {},
   "outputs": [],
   "source": [
    "def occ2(l,n):\n",
    "    \"\"\"this function takes in a list and an element and counts its number of occurences.\"\"\"\n",
    "    try:\n",
    "        return l.count(n)\n",
    "    except Exception as e:\n",
    "        print(e)"
   ]
  },
  {
   "cell_type": "code",
   "execution_count": 44,
   "id": "36b47f23",
   "metadata": {},
   "outputs": [
    {
     "data": {
      "text/plain": [
       "8"
      ]
     },
     "execution_count": 44,
     "metadata": {},
     "output_type": "execute_result"
    }
   ],
   "source": [
    "l=[23,3,3,2,13,323,3,3,3,32452,3,2523,23,3,5,4,3,23,23]\n",
    "occ(l,3)"
   ]
  },
  {
   "cell_type": "code",
   "execution_count": null,
   "id": "b736f5f6",
   "metadata": {},
   "outputs": [],
   "source": []
  }
 ],
 "metadata": {
  "kernelspec": {
   "display_name": "Python 3 (ipykernel)",
   "language": "python",
   "name": "python3"
  },
  "language_info": {
   "codemirror_mode": {
    "name": "ipython",
    "version": 3
   },
   "file_extension": ".py",
   "mimetype": "text/x-python",
   "name": "python",
   "nbconvert_exporter": "python",
   "pygments_lexer": "ipython3",
   "version": "3.9.7"
  }
 },
 "nbformat": 4,
 "nbformat_minor": 5
}
