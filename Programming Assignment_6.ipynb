{
 "cells": [
  {
   "cell_type": "raw",
   "id": "46b3854c",
   "metadata": {},
   "source": [
    "1. Write a Python Program to Display Fibonacci Sequence Using Recursion?"
   ]
  },
  {
   "cell_type": "code",
   "execution_count": 1,
   "id": "7bcd863a",
   "metadata": {},
   "outputs": [],
   "source": [
    "def fib(n):\n",
    "    \"\"\"this function takes in an integer to display fibonacci series using recursion.\"\"\"\n",
    "    if(n==0):\n",
    "        return n\n",
    "    if(n==1):\n",
    "        return n\n",
    "    \n",
    "    \n",
    "    return(fib(n-1)+fib(n-2))"
   ]
  },
  {
   "cell_type": "code",
   "execution_count": 2,
   "id": "8b6a93a2",
   "metadata": {},
   "outputs": [
    {
     "data": {
      "text/plain": [
       "13"
      ]
     },
     "execution_count": 2,
     "metadata": {},
     "output_type": "execute_result"
    }
   ],
   "source": [
    "fib(7)"
   ]
  },
  {
   "cell_type": "code",
   "execution_count": null,
   "id": "f48723e8",
   "metadata": {},
   "outputs": [],
   "source": []
  },
  {
   "cell_type": "raw",
   "id": "04225045",
   "metadata": {},
   "source": [
    "2. Write a Python Program to Find Factorial of Number Using Recursion?"
   ]
  },
  {
   "cell_type": "code",
   "execution_count": 3,
   "id": "8f8e2cc2",
   "metadata": {},
   "outputs": [],
   "source": [
    "def fact(f):\n",
    "    \"\"\"function to calculate factorial of a number.\"\"\"\n",
    "    if(f==1):\n",
    "        return 1\n",
    "    \n",
    "    return f*fact(f-1)"
   ]
  },
  {
   "cell_type": "code",
   "execution_count": 4,
   "id": "a6a5aa40",
   "metadata": {},
   "outputs": [
    {
     "data": {
      "text/plain": [
       "120"
      ]
     },
     "execution_count": 4,
     "metadata": {},
     "output_type": "execute_result"
    }
   ],
   "source": [
    "fact(5)"
   ]
  },
  {
   "cell_type": "code",
   "execution_count": null,
   "id": "0e58682b",
   "metadata": {},
   "outputs": [],
   "source": []
  },
  {
   "cell_type": "raw",
   "id": "19201e34",
   "metadata": {},
   "source": [
    "3. Write a Python Program to calculate your Body Mass Index?"
   ]
  },
  {
   "cell_type": "code",
   "execution_count": 5,
   "id": "2043122c",
   "metadata": {},
   "outputs": [
    {
     "name": "stdout",
     "output_type": "stream",
     "text": [
      "Enter your weight in kg : 67\n",
      "Enter your height in cm : 173\n",
      "Your bmi i.e. Body mass index is : 22.386314277122523\n",
      "Underweight = <18.5 \n",
      " Normal weight = 18.5–24.9 \n",
      " Overweight = 25–29.9 \n",
      " Obesity = BMI of 30 or greater\n"
     ]
    }
   ],
   "source": [
    "def bmi(w,h):\n",
    "    b=(w*10000)/(h**2)\n",
    "    return b\n",
    "\n",
    "w=int(input(\"Enter your weight in kg : \"))\n",
    "h=int(input(\"Enter your height in cm : \"))\n",
    "print(\"Your bmi i.e. Body mass index is : {}\".format(bmi(w,h)))\n",
    "print(\"Underweight = <18.5 \\n Normal weight = 18.5–24.9 \\n Overweight = 25–29.9 \\n Obesity = BMI of 30 or greater\")\n"
   ]
  },
  {
   "cell_type": "code",
   "execution_count": null,
   "id": "d6da3c3f",
   "metadata": {},
   "outputs": [],
   "source": []
  },
  {
   "cell_type": "code",
   "execution_count": null,
   "id": "2d10c396",
   "metadata": {},
   "outputs": [],
   "source": []
  },
  {
   "cell_type": "raw",
   "id": "032213b2",
   "metadata": {},
   "source": [
    "4. Write a Python Program to calculate the natural logarithm of any number?"
   ]
  },
  {
   "cell_type": "code",
   "execution_count": 6,
   "id": "59008e1c",
   "metadata": {},
   "outputs": [
    {
     "data": {
      "text/plain": [
       "2.302585092994046"
      ]
     },
     "execution_count": 6,
     "metadata": {},
     "output_type": "execute_result"
    }
   ],
   "source": [
    "import math\n",
    "def nlog(a):\n",
    "    \"\"\"this function calculates the natural log of input integer.\"\"\"\n",
    "    return math.log(a)\n",
    "\n",
    "nlog(10)\n",
    "    "
   ]
  },
  {
   "cell_type": "code",
   "execution_count": null,
   "id": "b6a93cac",
   "metadata": {},
   "outputs": [],
   "source": []
  },
  {
   "cell_type": "code",
   "execution_count": null,
   "id": "d5d80b99",
   "metadata": {},
   "outputs": [],
   "source": []
  },
  {
   "cell_type": "raw",
   "id": "bbfea861",
   "metadata": {},
   "source": [
    "5. Write a Python Program for cube sum of first n natural numbers?"
   ]
  },
  {
   "cell_type": "code",
   "execution_count": 7,
   "id": "c01223a6",
   "metadata": {},
   "outputs": [],
   "source": [
    "def sum(n):\n",
    "    m=((n*(n+1))/2)**2\n",
    "    return m\n",
    "        "
   ]
  },
  {
   "cell_type": "code",
   "execution_count": 8,
   "id": "d05b6c7b",
   "metadata": {},
   "outputs": [
    {
     "data": {
      "text/plain": [
       "225.0"
      ]
     },
     "execution_count": 8,
     "metadata": {},
     "output_type": "execute_result"
    }
   ],
   "source": [
    "sum(5)"
   ]
  },
  {
   "cell_type": "code",
   "execution_count": null,
   "id": "41523eda",
   "metadata": {},
   "outputs": [],
   "source": []
  },
  {
   "cell_type": "raw",
   "id": "447947e8",
   "metadata": {},
   "source": []
  }
 ],
 "metadata": {
  "kernelspec": {
   "display_name": "Python 3 (ipykernel)",
   "language": "python",
   "name": "python3"
  },
  "language_info": {
   "codemirror_mode": {
    "name": "ipython",
    "version": 3
   },
   "file_extension": ".py",
   "mimetype": "text/x-python",
   "name": "python",
   "nbconvert_exporter": "python",
   "pygments_lexer": "ipython3",
   "version": "3.9.7"
  }
 },
 "nbformat": 4,
 "nbformat_minor": 5
}
